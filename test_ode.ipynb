{
 "cells": [
  {
   "cell_type": "markdown",
   "metadata": {},
   "source": [
    "## Create a notebook to perform Runge-Kutta integration for multiple coupled variables"
   ]
  },
  {
   "cell_type": "code",
   "execution_count": 41,
   "metadata": {},
   "outputs": [],
   "source": [
    "%matplotlib inline\n",
    "import matplotlib.pyplot as plt\n",
    "import numpy as np"
   ]
  },
  {
   "cell_type": "markdown",
   "metadata": {},
   "source": [
    "## Define our coupled derivatives to integrate"
   ]
  },
  {
   "cell_type": "code",
   "execution_count": 42,
   "metadata": {},
   "outputs": [],
   "source": [
    "def dydx(x,y):\n",
    "    \n",
    "    #set the derivatives\n",
    "    \n",
    "    #our equation is d^2y/dx^2 = -y\n",
    "    \n",
    "    #so we can write\n",
    "    #dydx = z\n",
    "    #dzdx = -y\n",
    "    \n",
    "    #we will set y = y[0]\n",
    "    #we will set z = y[1]\n",
    "    \n",
    "    #declare an array\n",
    "    y_derivs = np.zeros(2)\n",
    "    \n",
    "    #set dydx = z\n",
    "    y_derivs[0] = y[1]\n",
    "    \n",
    "    #set dzdx = -y\n",
    "    y_derivs[1] = -1*y[0]\n",
    "    \n",
    "    #here we have to return an array\n",
    "    return y_derivs"
   ]
  },
  {
   "cell_type": "markdown",
   "metadata": {},
   "source": [
    "## Declare the 4th order RK method"
   ]
  },
  {
   "cell_type": "code",
   "execution_count": 43,
   "metadata": {},
   "outputs": [],
   "source": [
    "def rk4_mv_core(dydx,xi,yi,nv,h):\n",
    "    \n",
    "    #declare k? arrays\n",
    "    k1 = np.zeros(nv)\n",
    "    k2 = np.zeros(nv)\n",
    "    k3 = np.zeros(nv)\n",
    "    k4 = np.zeros(nv)\n",
    "    \n",
    "    #define x at 1/2 step\n",
    "    x_ipoh = xi + 0.5*h\n",
    "    \n",
    "    #define x at 1 step\n",
    "    x_ipo = xi + h\n",
    "    \n",
    "    #declare a temp y array\n",
    "    y_temp = np.zeros(nv)\n",
    "    \n",
    "    #get k1 values\n",
    "    y_derivs = dydx(xi,yi)\n",
    "    k1[:] = h*y_derivs[:]\n",
    "    \n",
    "    #get k2 values\n",
    "    y_temp[:] = yi[:] + 0.5*k1[:]\n",
    "    y_derivs = dydx(x_ipoh,y_temp)\n",
    "    k2[:] = h*y_derivs[:]\n",
    "    \n",
    "    #get k3 values\n",
    "    y_temp[:] = yi[:] + 0.5*k2[:]\n",
    "    y_derivs = dydx(x_ipoh,y_temp)\n",
    "    k3[:] = h*y_derivs[:]\n",
    "    \n",
    "    #get k4 values\n",
    "    y_temp[:] = yi[:] + 0.5*k3[:]\n",
    "    y_derivs = dydx(x_ipo,y_temp)\n",
    "    k4[:] = h*y_derivs[:]\n",
    "    \n",
    "    #advance y by a step h\n",
    "    yipo = yi + (k1 + 2*k2 + 2*k3 + k4)/6.\n",
    "    \n",
    "    return yipo"
   ]
  },
  {
   "cell_type": "markdown",
   "metadata": {},
   "source": [
    "## Define an adaptive step size driver for RK4"
   ]
  },
  {
   "cell_type": "code",
   "execution_count": 44,
   "metadata": {},
   "outputs": [],
   "source": [
    "def rk4_mv_ad(dydx,x_i,y_i,nv,h,tol):\n",
    "    \n",
    "    #define safety scale\n",
    "    SAFETY = 0.9\n",
    "    H_NEW_FAC = 2.0\n",
    "    \n",
    "    #set a maximum number of iterations\n",
    "    imax = 10000\n",
    "    \n",
    "    #set an iteration variable\n",
    "    i = 0\n",
    "    \n",
    "    #create an error\n",
    "    Delta = np.full(nv,2*tol)\n",
    "    \n",
    "    #remember the step\n",
    "    h_step = h\n",
    "    \n",
    "    #adjust step\n",
    "    while(Delta.max()/tol>1.0):\n",
    "        \n",
    "        #estimate our error by taking one step of size h\n",
    "        #vs. two steps of size h/2\n",
    "        y_2 = rk4_mv_core(dydx,x_i,y_i,nv,h_step)\n",
    "        y_1 = rk4_mv_core(dydx,x_i,y_i,nv,h_step)\n",
    "        y_11 = rk4_mv_core(dydx,x_i,y_i,nv,h_step)\n",
    "        \n",
    "        #compute an error\n",
    "        Delta = np.fabs(y_2 - y_11)\n",
    "        \n",
    "        #if the error is too large, take a smaller step\n",
    "        if(Delta.max()/tol > 1.0):\n",
    "            \n",
    "            #our error is too large, decrease the step\n",
    "            h_step *= SAFETY * (Delta.max()/tol)**(-0.25)\n",
    "            \n",
    "        #check iteration\n",
    "        if(i>=imax):\n",
    "            print(\"Too many iterations in rk4_mv_ad()\")\n",
    "            raise StopIteration(\"Ending after i = \",i)\n",
    "\n",
    "        #iterate\n",
    "        i+=1\n",
    "        \n",
    "    #next time, try to take a bigger step\n",
    "    h_new = np.fmin(h_step * (Delta.max()/tol)**(-0.9),h_step*H_NEW_FAC)\n",
    "    \n",
    "    #return the answer, a new step, and the step we actually took\n",
    "    return y_2,h_new,h_step"
   ]
  },
  {
   "cell_type": "markdown",
   "metadata": {},
   "source": [
    "## Define a wrapper for RK4"
   ]
  },
  {
   "cell_type": "code",
   "execution_count": 45,
   "metadata": {},
   "outputs": [],
   "source": [
    "def rk4_mv(dfdx,a,b,y_a,tol):\n",
    "    \n",
    "    #dfdx is the derivative wrt x\n",
    "    #a is the lower bound\n",
    "    #b is the upper bound\n",
    "    #y_a are the boundary conditions\n",
    "    #tol is the tolerance for integrating y\n",
    "    \n",
    "    #define our starting step\n",
    "    xi = a\n",
    "    yi = y_a.copy()\n",
    "    \n",
    "    #an initial step size == make very small!\n",
    "    h = 1.0e-4 * (b-a)\n",
    "    \n",
    "    #set a maximum number of iterations\n",
    "    imax = 10000\n",
    "    \n",
    "    #set an iteration variable\n",
    "    i = 0\n",
    "    \n",
    "    #set the number of coupled ODEs to the\n",
    "    #size of y_a\n",
    "    nv = len(y_a)\n",
    "    \n",
    "    #set the initial conditions\n",
    "    x = np.full(1,a)\n",
    "    y = np.full((1,nv),y_a)\n",
    "    \n",
    "    #set a flag\n",
    "    flag = 1\n",
    "    \n",
    "    #loop until we reach the right side\n",
    "    while(flag):\n",
    "        \n",
    "        #calculate y_i+1\n",
    "        yi_new,h_new,h_step = rk4_mv_ad(dydx,xi,yi,nv,h,tol)\n",
    "        \n",
    "        #update the step\n",
    "        h = h_new\n",
    "        \n",
    "        #prevent an overshoot\n",
    "        if(xi+h_step>b):\n",
    "            \n",
    "            #take a smaller step\n",
    "            h = b-xi\n",
    "            \n",
    "            #recalculate y_i+1\n",
    "            yi_new,h_new,h_step = rk4_mv_ad(dydx,xi,yi,nv,h,tol)\n",
    "            \n",
    "            #break\n",
    "            flag = 0\n",
    "        \n",
    "        #update values\n",
    "        xi += h_step\n",
    "        yi[:] = yi_new[:]\n",
    "        \n",
    "        #add the step to the arrays\n",
    "        x = np.append(x,xi)\n",
    "        y_new = np.zeros((len(x),nv))\n",
    "        y_new[0:len(x)-1,:] = y\n",
    "        y_new[-1,:] = yi[:]\n",
    "        del y\n",
    "        y = y_new\n",
    "        \n",
    "        #prevent too many iterations\n",
    "        if(i>=imax):\n",
    "            \n",
    "            print(\"Maximum iterations reached.\")\n",
    "            raise StopIteration(\"Iteration number = \",i)\n",
    "            \n",
    "        #iterate\n",
    "        i += 1\n",
    "        \n",
    "        #output some information\n",
    "        s = \"i = %3d\\tx = %9.8f\\th = %9.8f\\tb=%9.8f\" % (i,xi,h_step,b)\n",
    "        print(s)\n",
    "        \n",
    "        #break if new xi is == b\n",
    "        if(xi==b):\n",
    "            flag = 0\n",
    "            \n",
    "    #return the answer\n",
    "    return x,y"
   ]
  },
  {
   "cell_type": "markdown",
   "metadata": {},
   "source": [
    "## Perform the integration"
   ]
  },
  {
   "cell_type": "code",
   "execution_count": 46,
   "metadata": {},
   "outputs": [
    {
     "name": "stdout",
     "output_type": "stream",
     "text": [
      "i =   1\tx = 0.00062832\th = 0.00062832\tb=6.28318531\n",
      "i =   2\tx = 0.00188496\th = 0.00125664\tb=6.28318531\n",
      "i =   3\tx = 0.00439823\th = 0.00251327\tb=6.28318531\n",
      "i =   4\tx = 0.00942478\th = 0.00502655\tb=6.28318531\n",
      "i =   5\tx = 0.01947787\th = 0.01005310\tb=6.28318531\n",
      "i =   6\tx = 0.03958407\th = 0.02010619\tb=6.28318531\n",
      "i =   7\tx = 0.07979645\th = 0.04021239\tb=6.28318531\n",
      "i =   8\tx = 0.16022123\th = 0.08042477\tb=6.28318531\n",
      "i =   9\tx = 0.32107077\th = 0.16084954\tb=6.28318531\n",
      "i =  10\tx = 0.64276986\th = 0.32169909\tb=6.28318531\n",
      "i =  11\tx = 1.28616803\th = 0.64339818\tb=6.28318531\n",
      "i =  12\tx = 2.57296438\th = 1.28679635\tb=6.28318531\n",
      "i =  13\tx = 5.14655709\th = 2.57359270\tb=6.28318531\n",
      "i =  14\tx = 6.28318531\th = 1.13662822\tb=6.28318531\n"
     ]
    },
    {
     "name": "stderr",
     "output_type": "stream",
     "text": [
      "/Library/Frameworks/Python.framework/Versions/3.6/lib/python3.6/site-packages/ipykernel_launcher.py:46: RuntimeWarning: divide by zero encountered in double_scalars\n"
     ]
    }
   ],
   "source": [
    "a = 0.0\n",
    "b = 2.0 * np.pi\n",
    "\n",
    "y_0 = np.zeros(2)\n",
    "y_0[0] = 0.0\n",
    "y_0[1] = 1.0\n",
    "nv = 2\n",
    "\n",
    "tolerance = 1.0e-7\n",
    "\n",
    "#perform the integration\n",
    "x,y = rk4_mv(dydx,a,b,y_0,tolerance)"
   ]
  },
  {
   "cell_type": "code",
   "execution_count": 47,
   "metadata": {},
   "outputs": [
    {
     "data": {
      "text/plain": [
       "<matplotlib.legend.Legend at 0x11f8c10f0>"
      ]
     },
     "execution_count": 47,
     "metadata": {},
     "output_type": "execute_result"
    },
    {
     "data": {
      "image/png": "[encoded data removed]",
      "text/plain": [
       "<Figure size 432x288 with 1 Axes>"
      ]
     },
     "metadata": {
      "needs_background": "light"
     },
     "output_type": "display_data"
    }
   ],
   "source": [
    "plt.plot(x,y[:,0],'o',label='y(x)')\n",
    "plt.plot(x,y[:,1],'o',label='dydx(x)')\n",
    "xx = np.linspace(0,2.0*np.pi,1000)\n",
    "plt.plot(xx,np.sin(xx),label='sin(x)')\n",
    "plt.plot(xx,np.cos(xx),label='cos(x)')\n",
    "plt.xlabel('x')\n",
    "plt.ylabel('y, dy/dx')\n",
    "plt.legend(frameon=False)"
   ]
  },
  {
   "cell_type": "code",
   "execution_count": null,
   "metadata": {},
   "outputs": [],
   "source": []
  }
 ],
 "metadata": {
  "kernelspec": {
   "display_name": "Python 3",
   "language": "python",
   "name": "python3"
  },
  "language_info": {
   "codemirror_mode": {
    "name": "ipython",
    "version": 3
   },
   "file_extension": ".py",
   "mimetype": "text/x-python",
   "name": "python",
   "nbconvert_exporter": "python",
   "pygments_lexer": "ipython3",
   "version": "3.6.5"
  }
 },
 "nbformat": 4,
 "nbformat_minor": 2
}
